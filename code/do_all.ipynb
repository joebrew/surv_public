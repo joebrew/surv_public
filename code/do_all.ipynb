{
 "metadata": {
  "name": "",
  "signature": "sha256:2c417f59b3352710e14a0733268da89798ec603369d5ab37d6634e9e3403012d"
 },
 "nbformat": 3,
 "nbformat_minor": 0,
 "worksheets": [
  {
   "cells": [
    {
     "cell_type": "code",
     "collapsed": false,
     "input": [
      "# libraries necessary:\n",
      "#mechanize, cookielib, BeautifulSoup,\n",
      "#html2text, pandas, subprocess,\n",
      "#rpy2, time, datetime,\n",
      "#platform, shutil"
     ],
     "language": "python",
     "metadata": {},
     "outputs": [],
     "prompt_number": 1
    },
    {
     "cell_type": "code",
     "collapsed": false,
     "input": [
      "# See if you have each package here by typing : import packagename\n",
      "# If you get an error, go to the command line\n",
      "# and type : sudo apt-get python-packagename\n",
      "# Then, confirm that it worked by typing here: import packagename"
     ],
     "language": "python",
     "metadata": {},
     "outputs": [],
     "prompt_number": 2
    },
    {
     "cell_type": "code",
     "collapsed": false,
     "input": [
      "#Import necessary libraries\n",
      "import mechanize\n",
      "import cookielib\n",
      "from BeautifulSoup import BeautifulSoup\n",
      "import html2text\n",
      "import pandas as pd\n",
      "import subprocess\n",
      "import rpy2.robjects as robjects"
     ],
     "language": "python",
     "metadata": {},
     "outputs": [],
     "prompt_number": 1
    },
    {
     "cell_type": "code",
     "collapsed": false,
     "input": [
      "# Get today's date\n",
      "import time\n",
      "today = time.strftime(\"%Y-%m-%d\")\n",
      "\n",
      "# Get yesterday's date\n",
      "from datetime import datetime, timedelta\n",
      "yesterday = (datetime.today() - timedelta(days=1)).strftime(\"%b %d %Y\")"
     ],
     "language": "python",
     "metadata": {},
     "outputs": [],
     "prompt_number": 2
    },
    {
     "cell_type": "code",
     "collapsed": false,
     "input": [
      "# Specify which directories we'll be using (different on Ben vs. Joe-linux vs. Joe-Windows)\n",
      "import platform\n",
      "plat = platform.uname()\n",
      "if 'joebrew' in plat:\n",
      "    private = '/media/joebrew/JB/fdoh/private/surv'\n",
      "    public = '/home/joebrew/Documents/surv_public'\n",
      "elif 'benbrew' in plat:\n",
      "    private = '/home/benbrew/Documents/private/surv/'\n",
      "    public = '/home/benbrew/Documents/surv_public'\n",
      "else:\n",
      "    private = 'E:/fdoh/private/surv'\n",
      "    public = 'C:/Users/BrewJR/Documents/surv_public'\n",
      "\n",
      "private_today = private + '/' + today"
     ],
     "language": "python",
     "metadata": {},
     "outputs": [],
     "prompt_number": 3
    },
    {
     "cell_type": "code",
     "collapsed": false,
     "input": [
      "plat"
     ],
     "language": "python",
     "metadata": {},
     "outputs": [
      {
       "metadata": {},
       "output_type": "pyout",
       "prompt_number": 4,
       "text": [
        "('Linux',\n",
        " 'joebrew',\n",
        " '3.13.0-44-generic',\n",
        " '#73-Ubuntu SMP Tue Dec 16 00:22:43 UTC 2014',\n",
        " 'x86_64',\n",
        " 'x86_64')"
       ]
      }
     ],
     "prompt_number": 4
    },
    {
     "cell_type": "code",
     "collapsed": false,
     "input": [
      "# If necessary, create today's directory\n",
      "# and set working directory there\n",
      "import os\n",
      "if not os.path.exists(private_today):\n",
      "  os.makedirs(private_today)\n",
      "\n",
      "os.chdir(private)"
     ],
     "language": "python",
     "metadata": {},
     "outputs": [],
     "prompt_number": 5
    },
    {
     "cell_type": "code",
     "collapsed": false,
     "input": [
      "# Run the r script to get the dates and URLs for today's data download\n",
      "os.chdir(public)\n",
      "robjects.r['source'](\"code/00_get_links.R\")"
     ],
     "language": "python",
     "metadata": {},
     "outputs": [
      {
       "metadata": {},
       "output_type": "pyout",
       "prompt_number": 6,
       "text": [
        "<ListVector - Python:0x7f5f72f2edd0 / R:0x38be570>\n",
        "[RNULLType, Vector]\n",
        "  value: <type 'rpy2.rinterface.RNULLType'>\n",
        "  rpy2.rinterface.NULL\n",
        "  visible: <class 'rpy2.robjects.vectors.Vector'>\n",
        "  <Vector - Python:0x7f5f7192d4d0 / R:0x25c3588>\n",
        "[       0]"
       ]
      }
     ],
     "prompt_number": 6
    },
    {
     "cell_type": "code",
     "collapsed": false,
     "input": [
      "# Read in which links I need for today\n",
      "import pandas as pd\n",
      "os.chdir(private)\n",
      "todays_links = pd.read_csv('todays_links.csv')"
     ],
     "language": "python",
     "metadata": {},
     "outputs": [],
     "prompt_number": 7
    },
    {
     "cell_type": "code",
     "collapsed": false,
     "input": [
      "# Browser\n",
      "br = mechanize.Browser()\n",
      "\n",
      "# Cookie Jar\n",
      "cj = cookielib.LWPCookieJar()\n",
      "br.set_cookiejar(cj)"
     ],
     "language": "python",
     "metadata": {},
     "outputs": [],
     "prompt_number": 8
    },
    {
     "cell_type": "code",
     "collapsed": false,
     "input": [
      "# Browser options\n",
      "br.set_handle_equiv(True)\n",
      "br.set_handle_gzip(True)\n",
      "br.set_handle_redirect(True)\n",
      "br.set_handle_referer(True)\n",
      "br.set_handle_robots(False)\n",
      "br.set_handle_refresh(mechanize._http.HTTPRefreshProcessor(), max_time=1)\n",
      "\n",
      "br.addheaders = [('User-agent', 'Chrome')]"
     ],
     "language": "python",
     "metadata": {},
     "outputs": [
      {
       "output_type": "stream",
       "stream": "stderr",
       "text": [
        "-c:3: UserWarning: gzip transfer encoding is experimental!\n"
       ]
      }
     ],
     "prompt_number": 9
    },
    {
     "cell_type": "code",
     "collapsed": false,
     "input": [
      "# The site we will navigate into, handling it's session\n",
      "br.open('https://www.essencefl.com/florida_5_1_14/servlet/Login')\n",
      "#br.open('https://github.com/login')\n",
      "\n",
      "# View available forms\n",
      "#for f in br.forms():\n",
      "#    print f\n",
      "\n",
      "# Select the second (index one) form (the first form is a search query box)\n",
      "br.select_form(nr=0)"
     ],
     "language": "python",
     "metadata": {},
     "outputs": [],
     "prompt_number": 10
    },
    {
     "cell_type": "code",
     "collapsed": false,
     "input": [
      "# Read in credentials\n",
      "os.chdir(private)\n",
      "pu = pd.read_csv('essence/pu.csv', dtype = 'string')"
     ],
     "language": "python",
     "metadata": {},
     "outputs": [],
     "prompt_number": 11
    },
    {
     "cell_type": "code",
     "collapsed": false,
     "input": [
      "# Extract ESSENCE username and password from the pu file\n",
      "u = list(pu['u'])[0]\n",
      "p = list(pu['p'])[0]"
     ],
     "language": "python",
     "metadata": {},
     "outputs": [],
     "prompt_number": 12
    },
    {
     "cell_type": "code",
     "collapsed": false,
     "input": [
      "# User credentials\n",
      "br.form['j_username'] = u\n",
      "br.form['j_password'] = p\n",
      "\n",
      "# Login\n",
      "br.submit()"
     ],
     "language": "python",
     "metadata": {},
     "outputs": [
      {
       "metadata": {},
       "output_type": "pyout",
       "prompt_number": 13,
       "text": [
        "<response_seek_wrapper at 0x7f5f718eb1b8 whose wrapped object = <closeable_response at 0x7f5f71903b90 whose fp = <socket._fileobject object at 0x7f5f718ec050>>>"
       ]
      }
     ],
     "prompt_number": 13
    },
    {
     "cell_type": "code",
     "collapsed": false,
     "input": [
      "# Set working directory to today's private folder\n",
      "os.chdir(private_today)"
     ],
     "language": "python",
     "metadata": {},
     "outputs": [],
     "prompt_number": 14
    },
    {
     "cell_type": "code",
     "collapsed": false,
     "input": [
      "# Check to see if Alachua has reported yet\n",
      "reported_yet = br.open('https://www.essencefl.com/florida_5_1_14/servlet/HomePageServlet')\n",
      "reported_text = reported_yet.read()\n",
      "if 'Alachua              reporting (2/2) hospitals for ' + yesterday in reported_text:\n",
      "    print 'Good to go - both hospitals are reporting'\n",
      "else:\n",
      "    print 'Stop here - not all hospitals have reported yet for today'"
     ],
     "language": "python",
     "metadata": {},
     "outputs": [
      {
       "output_type": "stream",
       "stream": "stdout",
       "text": [
        "Stop here - not all hospitals have reported yet for today\n"
       ]
      }
     ],
     "prompt_number": 15
    },
    {
     "cell_type": "code",
     "collapsed": false,
     "input": [
      "# Loop through each link, download the data for that link, and write that data to a file\n",
      "for i in range(0,9,1):\n",
      "    my_file = br.open(todays_links[0:]['link'][i])\n",
      "    # Write a text file\n",
      "    f = open(todays_links[0:]['file'][i], 'w')\n",
      "    f.write(my_file.read())\n",
      "    f.close()"
     ],
     "language": "python",
     "metadata": {},
     "outputs": [],
     "prompt_number": 19
    },
    {
     "cell_type": "code",
     "collapsed": false,
     "input": [
      "# If zap files are needed, copy and paste them into the new folder\n",
      "import shutil\n",
      "def copy_zap(file_name):\n",
      "   if not file_name in os.listdir(private_today):\n",
      "    shutil.copyfile(src = public + '/code/' + file_name, \n",
      "                    dst = private_today + '/' + file_name) \n",
      "\n",
      "copy_zap('zap.R')\n",
      "copy_zap('zap.Rnw')\n",
      "copy_zap('doh.png')\n",
      "copy_zap('zap_compile.R')"
     ],
     "language": "python",
     "metadata": {},
     "outputs": [],
     "prompt_number": 21
    },
    {
     "cell_type": "code",
     "collapsed": false,
     "input": [
      "# Run the zap file (daily surveillance)\n",
      "os.chdir(private_today)\n",
      "robjects.r['source'](\"zap.R\")"
     ],
     "language": "python",
     "metadata": {},
     "outputs": [
      {
       "output_type": "stream",
       "stream": "stdout",
       "text": [
        "gdata: read.xls support for 'XLS' (Excel 97-2004) files ENABLED.\n",
        "\n",
        "gdata: read.xls support for 'XLSX' (Excel 2007+) files ENABLED.\n",
        "\n",
        "Attaching package: \u2018gdata\u2019\n",
        "\n",
        "The following object is masked from \u2018package:stats\u2019:\n",
        "\n",
        "    nobs\n",
        "\n",
        "The following object is masked from \u2018package:utils\u2019:\n",
        "\n",
        "    object.size\n",
        "\n",
        "Loading required package: sp\n"
       ]
      },
      {
       "output_type": "stream",
       "stream": "stdout",
       "text": [
        "Checking rgeos availability: TRUE\n",
        "\n",
        "Attaching package: \u2018maptools\u2019\n",
        "\n",
        "The following object is masked from \u2018package:xtable\u2019:\n",
        "\n",
        "    label\n",
        "\n",
        "Loading required package: raster\n"
       ]
      },
      {
       "output_type": "stream",
       "stream": "stdout",
       "text": [
        "\n",
        "Attaching package: \u2018raster\u2019\n",
        "\n",
        "The following objects are masked from \u2018package:gdata\u2019:\n",
        "\n",
        "    resample, trim\n",
        "\n",
        "Loading required package: rgdal\n",
        "rgdal: version: 0.9-1, (SVN revision 518)\n",
        "Geospatial Data Abstraction Library extensions to R successfully loaded\n",
        "Loaded GDAL runtime: GDAL 1.10.1, released 2013/08/26\n",
        "Path to GDAL shared files: /usr/share/gdal/1.10\n",
        "Loaded PROJ.4 runtime: Rel. 4.8.0, 6 March 2012, [PJ_VERSION: 480]\n",
        "Path to PROJ.4 shared files: (autodetected)\n"
       ]
      },
      {
       "output_type": "stream",
       "stream": "stdout",
       "text": [
        "Loading required package: foreign\n",
        "\n",
        "Attaching package: \u2018shapefiles\u2019\n",
        "\n",
        "The following objects are masked from \u2018package:foreign\u2019:\n",
        "\n",
        "    read.dbf, write.dbf\n",
        "\n",
        "Loading required package: bitops\n"
       ]
      },
      {
       "output_type": "stream",
       "stream": "stdout",
       "text": [
        "\n",
        "Attaching package: \u2018RCurl\u2019\n",
        "\n",
        "The following object is masked from \u2018package:rJava\u2019:\n",
        "\n",
        "    clone\n",
        "\n",
        "data.table 1.9.4  For help type: ?data.table\n"
       ]
      },
      {
       "output_type": "stream",
       "stream": "stdout",
       "text": [
        "*** NB: by=.EACHI is now explicit. See README to restore previous behaviour.\n",
        "Loading required package: MASS\n"
       ]
      },
      {
       "output_type": "stream",
       "stream": "stdout",
       "text": [
        "\n",
        "Attaching package: \u2018MASS\u2019\n",
        "\n",
        "The following objects are masked from \u2018package:raster\u2019:\n",
        "\n",
        "    area, select\n",
        "\n",
        "--------------------------------------------------------------\n",
        " Analysis of geostatistical data\n",
        " For an Introduction to geoR go to http://www.leg.ufpr.br/geoR\n",
        " geoR version 1.7-4.1 (built on 2012-06-29) is now loaded\n",
        "--------------------------------------------------------------\n",
        "\n"
       ]
      },
      {
       "output_type": "stream",
       "stream": "stdout",
       "text": [
        "Loading required package: rgeos\n",
        "rgeos version: 0.3-8, (SVN revision 460)\n",
        " GEOS runtime version: 3.4.2-CAPI-1.8.2 r3921 \n",
        " Polygon checking: TRUE \n",
        "\n",
        "krige.conv: results will be returned only for prediction locations inside the borders\n"
       ]
      },
      {
       "output_type": "stream",
       "stream": "stdout",
       "text": [
        "krige.conv: model with constant mean\n",
        "krige.conv: Kriging performed using global neighbourhood \n"
       ]
      },
      {
       "metadata": {},
       "output_type": "pyout",
       "prompt_number": 22,
       "text": [
        "<ListVector - Python:0x7f56c4cd3d40 / R:0xcceef58>\n",
        "[RNULLType, Vector]\n",
        "  value: <type 'rpy2.rinterface.RNULLType'>\n",
        "  rpy2.rinterface.NULL\n",
        "  visible: <class 'rpy2.robjects.vectors.Vector'>\n",
        "  <Vector - Python:0x7f56a103f7e8 / R:0x22989a8>\n",
        "[       0]"
       ]
      }
     ],
     "prompt_number": 22
    },
    {
     "cell_type": "code",
     "collapsed": false,
     "input": [
      "# Compile the pdf\n",
      "os.chdir(private_today)\n",
      "os.system('ls -l -h')\n",
      "os.system('R CMD Sweave --pdf zap.Rnw')"
     ],
     "language": "python",
     "metadata": {},
     "outputs": [
      {
       "metadata": {},
       "output_type": "pyout",
       "prompt_number": 23,
       "text": [
        "256"
       ]
      }
     ],
     "prompt_number": 23
    },
    {
     "cell_type": "code",
     "collapsed": false,
     "input": [
      "os.system('gnome-open zap.pdf')"
     ],
     "language": "python",
     "metadata": {},
     "outputs": [
      {
       "metadata": {},
       "output_type": "pyout",
       "prompt_number": 25,
       "text": [
        "0"
       ]
      }
     ],
     "prompt_number": 25
    },
    {
     "cell_type": "code",
     "collapsed": false,
     "input": [],
     "language": "python",
     "metadata": {},
     "outputs": []
    }
   ],
   "metadata": {}
  }
 ]
}