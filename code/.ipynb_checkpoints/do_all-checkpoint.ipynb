{
 "metadata": {
  "name": ""
 },
 "nbformat": 3,
 "nbformat_minor": 0,
 "worksheets": [
  {
   "cells": [
    {
     "cell_type": "code",
     "collapsed": false,
     "input": [
      "# Get today's date\n",
      "import time\n",
      "today = time.strftime(\"%Y-%m-%d\")"
     ],
     "language": "python",
     "metadata": {},
     "outputs": [],
     "prompt_number": 1
    },
    {
     "cell_type": "code",
     "collapsed": false,
     "input": [
      "# Specify which directories we'll be using (different on Ben vs. Joe-linux vs. Joe-Windows)\n",
      "import platform\n",
      "plat = platform.uname()\n",
      "if 'joebrew' in plat:\n",
      "    private = '/media/joebrew/JB/fdoh/private/surv'\n",
      "    public = '/home/joebrew/Documents/surv_public'\n",
      "elif 'benbrew' in plat:\n",
      "    private = '/home/benbrew/Documents/private/surv/'\n",
      "    public = '/home/benbrew/Documents/surv_public'\n",
      "\n",
      "else:\n",
      "    private = 'E:/fdoh/private/surv'\n",
      "    public = 'C:/Users/BrewJR/Documents/surv_public'\n",
      "\n",
      "private_today = private + '/' + today"
     ],
     "language": "python",
     "metadata": {},
     "outputs": [],
     "prompt_number": 2
    },
    {
     "cell_type": "code",
     "collapsed": false,
     "input": [
      "# If necessary, create today's directory\n",
      "# and set working directory there\n",
      "import os\n",
      "if not os.path.exists(private_today):\n",
      "  os.makedirs(private_today)\n",
      "\n",
      "os.chdir(private)"
     ],
     "language": "python",
     "metadata": {},
     "outputs": [],
     "prompt_number": 3
    },
    {
     "cell_type": "code",
     "collapsed": false,
     "input": [
      "# Import necessary libraries\n",
      "import mechanize\n",
      "import cookielib\n",
      "from BeautifulSoup import BeautifulSoup\n",
      "import html2text\n",
      "import pandas as pd\n",
      "import subprocess\n",
      "import rpy2.robjects as robjects"
     ],
     "language": "python",
     "metadata": {},
     "outputs": [],
     "prompt_number": 4
    },
    {
     "cell_type": "code",
     "collapsed": false,
     "input": [
      "# Run the r script to get the dates and URLs for today's data download\n",
      "os.chdir(public)\n",
      "robjects.r['source'](\"code/00_get_links.R\")"
     ],
     "language": "python",
     "metadata": {},
     "outputs": [
      {
       "metadata": {},
       "output_type": "pyout",
       "prompt_number": 5,
       "text": [
        "<ListVector - Python:0x7f5a0c7a0d88 / R:0x37b94b0>\n",
        "[RNULLType, Vector]\n",
        "  value: <type 'rpy2.rinterface.RNULLType'>\n",
        "  rpy2.rinterface.NULL\n",
        "  visible: <class 'rpy2.robjects.vectors.Vector'>\n",
        "  <Vector - Python:0x7f5a0c7b5638 / R:0x33db958>\n",
        "[       0]"
       ]
      }
     ],
     "prompt_number": 5
    },
    {
     "cell_type": "code",
     "collapsed": false,
     "input": [
      "# Read in which links I need for today\n",
      "import pandas as pd\n",
      "os.chdir(private)\n",
      "todays_links = pd.read_csv('todays_links.csv')\n"
     ],
     "language": "python",
     "metadata": {},
     "outputs": [],
     "prompt_number": 6
    },
    {
     "cell_type": "code",
     "collapsed": false,
     "input": [
      "# Browser\n",
      "br = mechanize.Browser()\n",
      "\n",
      "# Cookie Jar\n",
      "cj = cookielib.LWPCookieJar()\n",
      "br.set_cookiejar(cj)"
     ],
     "language": "python",
     "metadata": {},
     "outputs": [],
     "prompt_number": 7
    },
    {
     "cell_type": "code",
     "collapsed": false,
     "input": [
      "# Browser options\n",
      "br.set_handle_equiv(True)\n",
      "br.set_handle_gzip(True)\n",
      "br.set_handle_redirect(True)\n",
      "br.set_handle_referer(True)\n",
      "br.set_handle_robots(False)\n",
      "br.set_handle_refresh(mechanize._http.HTTPRefreshProcessor(), max_time=1)\n",
      "\n",
      "br.addheaders = [('User-agent', 'Chrome')]"
     ],
     "language": "python",
     "metadata": {},
     "outputs": [
      {
       "output_type": "stream",
       "stream": "stderr",
       "text": [
        "-c:3: UserWarning: gzip transfer encoding is experimental!\n"
       ]
      }
     ],
     "prompt_number": 8
    },
    {
     "cell_type": "code",
     "collapsed": false,
     "input": [
      "# The site we will navigate into, handling it's session\n",
      "br.open('https://www.essencefl.com/florida_5_1_14/servlet/Login')\n",
      "#br.open('https://github.com/login')\n",
      "\n",
      "# View available forms\n",
      "#for f in br.forms():\n",
      "#    print f\n",
      "\n",
      "# Select the second (index one) form (the first form is a search query box)\n",
      "br.select_form(nr=0)"
     ],
     "language": "python",
     "metadata": {},
     "outputs": [],
     "prompt_number": 9
    },
    {
     "cell_type": "code",
     "collapsed": false,
     "input": [
      "# Read in credentials\n",
      "pu = pd.read_csv('/home/joebrew/Documents/private/essence/pu.csv', dtype = 'string')"
     ],
     "language": "python",
     "metadata": {},
     "outputs": [],
     "prompt_number": 10
    },
    {
     "cell_type": "code",
     "collapsed": false,
     "input": [
      "#u = u.read()\n",
      "#p = p.read()"
     ],
     "language": "python",
     "metadata": {},
     "outputs": [],
     "prompt_number": 11
    },
    {
     "cell_type": "code",
     "collapsed": false,
     "input": [
      "u = list(pu['u'])[0]\n",
      "p = list(pu['p'])[0]"
     ],
     "language": "python",
     "metadata": {},
     "outputs": [],
     "prompt_number": 12
    },
    {
     "cell_type": "code",
     "collapsed": false,
     "input": [
      "# User credentials\n",
      "br.form['j_username'] = u\n",
      "br.form['j_password'] = p\n",
      "\n",
      "# Login\n",
      "br.submit()"
     ],
     "language": "python",
     "metadata": {},
     "outputs": [
      {
       "metadata": {},
       "output_type": "pyout",
       "prompt_number": 13,
       "text": [
        "<response_seek_wrapper at 0x7f5a0c76e050 whose wrapped object = <closeable_response at 0x7f5a0c789ab8 whose fp = <socket._fileobject object at 0x7f5a0c76f050>>>"
       ]
      }
     ],
     "prompt_number": 13
    },
    {
     "cell_type": "code",
     "collapsed": false,
     "input": [
      "# Set working directory to today's private folder\n",
      "os.chdir(private_today)"
     ],
     "language": "python",
     "metadata": {},
     "outputs": [],
     "prompt_number": 14
    },
    {
     "cell_type": "code",
     "collapsed": false,
     "input": [
      "for i in range(0,9,1):\n",
      "    my_file = br.open(todays_links[0:]['link'][i])\n",
      "    # Write a text file\n",
      "    f = open(todays_links[0:]['file'][i], 'w')\n",
      "    f.write(my_file.read())\n",
      "    f.close()"
     ],
     "language": "python",
     "metadata": {},
     "outputs": [],
     "prompt_number": 21
    },
    {
     "cell_type": "code",
     "collapsed": false,
     "input": [
      "# If zap files are needed, copy and paste them into the new folder\n",
      "import shutil\n",
      "def copy_zap(file_name):\n",
      "   if not file_name in os.listdir(private_today):\n",
      "    shutil.copyfile(src = public + '/code/' + file_name, \n",
      "                    dst = private_today + '/' + file_name) \n",
      "\n",
      "copy_zap('zap.R')\n",
      "copy_zap('zap.Rnw')\n",
      "copy_zap('doh.png')\n",
      "copy_zap('zap_compile.R')"
     ],
     "language": "python",
     "metadata": {},
     "outputs": [],
     "prompt_number": 22
    },
    {
     "cell_type": "code",
     "collapsed": false,
     "input": [
      "# Run the zap file (daily surveillance)\n",
      "#os.chdir(private_today)\n",
      "#robjects.r['source'](\"zap.R\")"
     ],
     "language": "python",
     "metadata": {},
     "outputs": [
      {
       "output_type": "stream",
       "stream": "stdout",
       "text": [
        "Loading required package: rgeos\n",
        "rgeos version: 0.3-8, (SVN revision 460)\n",
        " GEOS runtime version: 3.4.2-CAPI-1.8.2 r3921 \n",
        " Polygon checking: TRUE \n",
        "\n",
        "krige.conv: results will be returned only for prediction locations inside the borders\n"
       ]
      },
      {
       "output_type": "stream",
       "stream": "stdout",
       "text": [
        "krige.conv: model with constant mean\n",
        "krige.conv: Kriging performed using global neighbourhood \n"
       ]
      },
      {
       "metadata": {},
       "output_type": "pyout",
       "prompt_number": 19,
       "text": [
        "<ListVector - Python:0x7f5a0c78f050 / R:0x34f3b08>\n",
        "[RNULLType, Vector]\n",
        "  value: <type 'rpy2.rinterface.RNULLType'>\n",
        "  rpy2.rinterface.NULL\n",
        "  visible: <class 'rpy2.robjects.vectors.Vector'>\n",
        "  <Vector - Python:0x7f59b714a128 / R:0x33db958>\n",
        "[       0]"
       ]
      }
     ],
     "prompt_number": 19
    },
    {
     "cell_type": "code",
     "collapsed": false,
     "input": [
      "# Compile the pdf\n",
      "#os.chdir(private_today)\n",
      "#robjects.r['source'](\"zap_compile.R\")"
     ],
     "language": "python",
     "metadata": {},
     "outputs": [
      {
       "output_type": "stream",
       "stream": "stdout",
       "text": [
        "removing the unnecessary option fig=TRUE:\n",
        "    * fig=TRUE\n",
        "    * height=1.8, fig=TRUE\n",
        "    * height=1.8, fig=TRUE\n",
        "    * height=1.8, fig=TRUE\n",
        "    * height=1.8, fig=TRUE\n",
        "    * height=1.8, fig=TRUE\n",
        "    * height=1.8, fig=TRUE\n",
        "    * height=1.8, fig=TRUE\n",
        "    * height=1.8, fig=TRUE\n",
        "    * height=1.8, fig=TRUE\n",
        "    * height=1.8, fig=TRUE\n",
        "    * fig=TRUE\n",
        "    * fig = TRUE, height = 3.2\n",
        "    * height=9, fig=TRUE\n",
        "    * height=9, fig=TRUE\n",
        "    * height=9, fig=TRUE\n",
        "    * height=9, fig=TRUE\n",
        "    * height=9, fig=TRUE\n",
        "    * height=9, fig=TRUE\n",
        "    * height=9, fig=TRUE\n",
        "    * height=9, fig=TRUE\n",
        "    * height=9, fig=TRUE\n",
        "    * height=9, fig=TRUE\n",
        "    * fig=TRUE\n",
        "    * fig=TRUE\n",
        "    * fig=TRUE\n",
        "    * fig=TRUE\n",
        "    * fig=TRUE\n",
        "fig=FALSE should be fig.keep='none':\n",
        "    * echo=FALSE, results=hide, fig=FALSE\n",
        "replacing results=tex with results=asis:\n",
        "    * results=tex, keep.source=TRUE\n",
        "    * results=tex, keep.source=TRUE\n",
        "    * results=tex, keep.source=TRUE\n",
        "    * results=tex, keep.source=TRUE\n",
        "    * results=tex, keep.source=TRUE\n",
        "    * results=tex, keep.source=TRUE\n",
        "    * results=tex, keep.source=TRUE\n",
        "    * results=tex, keep.source=TRUE\n",
        "    * results=tex, keep.source=TRUE\n",
        "    * results=tex, keep.source=TRUE\n",
        "    * results=tex, keep.source=TRUE\n",
        "    * results=tex, keep.source=TRUE\n",
        "quoting the results option:\n",
        "    * echo=FALSE, results=hide, fig.keep='none'\n",
        "    * results=asis, keep.source=TRUE\n",
        "    * results=asis, keep.source=TRUE\n",
        "    * results=asis, keep.source=TRUE\n",
        "    * results=asis, keep.source=TRUE\n",
        "    * results=asis, keep.source=TRUE\n",
        "    * results=asis, keep.source=TRUE\n",
        "    * results=asis, keep.source=TRUE\n",
        "    * results=asis, keep.source=TRUE\n",
        "    * results=asis, keep.source=TRUE\n",
        "    * results=asis, keep.source=TRUE\n",
        "    * results=asis, keep.source=TRUE\n",
        "    * results=asis, keep.source=TRUE\n",
        "replacing width/height with fig.width/fig.height:\n",
        "    * , height = 3.2\n",
        "changing keep.source=TRUE to tidy=FALSE:\n",
        "    * results='asis', keep.source=TRUE\n",
        "    * results='asis', keep.source=TRUE\n",
        "    * results='asis', keep.source=TRUE\n",
        "    * results='asis', keep.source=TRUE\n",
        "    * results='asis', keep.source=TRUE\n",
        "    * results='asis', keep.source=TRUE\n",
        "    * results='asis', keep.source=TRUE\n",
        "    * results='asis', keep.source=TRUE\n",
        "    * results='asis', keep.source=TRUE\n",
        "    * results='asis', keep.source=TRUE\n",
        "    * results='asis', keep.source=TRUE\n",
        "    * results='asis', keep.source=TRUE\n",
        "quoting the results option:\n",
        "    * concordance=TRUE, echo=FALSE, results=hide\n",
        "changing \\SweaveOpts{} to opts_chunk$set():\n",
        "    * \\SweaveOpts{concordance=TRUE, echo=FALSE, results=hide}\n",
        "\n",
        "\n",
        "processing file: zap.Rnw\n"
       ]
      },
      {
       "output_type": "stream",
       "stream": "stdout",
       "text": [
        "\r",
        "  |                                                                       \r",
        "  |                                                                 |   0%"
       ]
      },
      {
       "output_type": "stream",
       "stream": "stdout",
       "text": [
        "\r",
        "  |                                                                       \r",
        "  |.                                                                |   1%"
       ]
      },
      {
       "output_type": "stream",
       "stream": "stdout",
       "text": [
        "\n"
       ]
      },
      {
       "output_type": "stream",
       "stream": "stdout",
       "text": [
        "  ordinary text without R code\n",
        "\n",
        "\r",
        "  |                                                                       \r",
        "  |.                                                                |   2%"
       ]
      },
      {
       "output_type": "stream",
       "stream": "stdout",
       "text": [
        "\n"
       ]
      },
      {
       "output_type": "stream",
       "stream": "stdout",
       "text": [
        "label: unnamed-chunk-1 (with options) \n",
        "List of 1\n",
        " $ include: logi FALSE\n",
        "\n",
        "\r",
        "  |                                                                       "
       ]
      },
      {
       "output_type": "stream",
       "stream": "stdout",
       "text": [
        "\r",
        "  |..                                                               |   3%"
       ]
      },
      {
       "output_type": "stream",
       "stream": "stdout",
       "text": [
        "\n"
       ]
      },
      {
       "output_type": "stream",
       "stream": "stdout",
       "text": [
        "   inline R code fragments\n",
        "\n",
        "\r",
        "  |                                                                       \r",
        "  |...                                                              |   4%"
       ]
      },
      {
       "output_type": "stream",
       "stream": "stdout",
       "text": [
        "\n"
       ]
      },
      {
       "output_type": "stream",
       "stream": "stdout",
       "text": [
        "label: unnamed-chunk-2 (with options) \n",
        "List of 3\n",
        " $ echo    : logi FALSE\n",
        " $ results : chr \"hide\"\n",
        " $ fig.keep: chr \"none\"\n",
        "\n",
        "\r",
        "  |                                                                       "
       ]
      },
      {
       "output_type": "stream",
       "stream": "stdout",
       "text": [
        "\r",
        "  |....                                                             |   5%"
       ]
      },
      {
       "output_type": "stream",
       "stream": "stdout",
       "text": [
        "\n"
       ]
      },
      {
       "output_type": "stream",
       "stream": "stdout",
       "text": [
        "  ordinary text without R code\n",
        "\n",
        "\r",
        "  |                                                                       \r",
        "  |....                                                             |   7%"
       ]
      },
      {
       "output_type": "stream",
       "stream": "stdout",
       "text": [
        "\n"
       ]
      },
      {
       "output_type": "stream",
       "stream": "stdout",
       "text": [
        "label: unnamed-chunk-3\n",
        "\r",
        "  |                                                                       "
       ]
      },
      {
       "output_type": "stream",
       "stream": "stdout",
       "text": [
        "\r",
        "  |.....                                                            |   8%"
       ]
      },
      {
       "output_type": "stream",
       "stream": "stdout",
       "text": [
        "\n"
       ]
      },
      {
       "output_type": "stream",
       "stream": "stdout",
       "text": [
        "  ordinary text without R code\n",
        "\n",
        "\r",
        "  |                                                                       \r",
        "  |......                                                           |   9%"
       ]
      },
      {
       "output_type": "stream",
       "stream": "stdout",
       "text": [
        "\n"
       ]
      },
      {
       "output_type": "stream",
       "stream": "stdout",
       "text": [
        "label: unnamed-chunk-4 (with options) \n",
        "List of 1\n",
        " $ height: num 1.8\n",
        "\n",
        "\r",
        "  |                                                                       "
       ]
      },
      {
       "output_type": "stream",
       "stream": "stdout",
       "text": [
        "\r",
        "  |......                                                           |  10%"
       ]
      },
      {
       "output_type": "stream",
       "stream": "stdout",
       "text": [
        "\n"
       ]
      },
      {
       "output_type": "stream",
       "stream": "stdout",
       "text": [
        "  ordinary text without R code\n",
        "\n",
        "\r",
        "  |                                                                       \r",
        "  |.......                                                          |  11%"
       ]
      },
      {
       "output_type": "stream",
       "stream": "stdout",
       "text": [
        "\n"
       ]
      },
      {
       "output_type": "stream",
       "stream": "stdout",
       "text": [
        "label: unnamed-chunk-5 (with options) \n",
        "List of 1\n",
        " $ height: num 1.8\n",
        "\n",
        "\r",
        "  |                                                                       "
       ]
      },
      {
       "output_type": "stream",
       "stream": "stdout",
       "text": [
        "\r",
        "  |........                                                         |  12%"
       ]
      },
      {
       "output_type": "stream",
       "stream": "stdout",
       "text": [
        "\n"
       ]
      },
      {
       "output_type": "stream",
       "stream": "stdout",
       "text": [
        "  ordinary text without R code\n",
        "\n",
        "\r",
        "  |                                                                       \r",
        "  |.........                                                        |  13%"
       ]
      },
      {
       "output_type": "stream",
       "stream": "stdout",
       "text": [
        "\n"
       ]
      },
      {
       "output_type": "stream",
       "stream": "stdout",
       "text": [
        "label: unnamed-chunk-6 (with options) \n",
        "List of 1\n",
        " $ height: num 1.8\n",
        "\n",
        "\r",
        "  |                                                                       "
       ]
      },
      {
       "output_type": "stream",
       "stream": "stdout",
       "text": [
        "\r",
        "  |.........                                                        |  14%"
       ]
      },
      {
       "output_type": "stream",
       "stream": "stdout",
       "text": [
        "\n"
       ]
      },
      {
       "output_type": "stream",
       "stream": "stdout",
       "text": [
        "  ordinary text without R code\n",
        "\n",
        "\r",
        "  |                                                                       \r",
        "  |..........                                                       |  15%"
       ]
      },
      {
       "output_type": "stream",
       "stream": "stdout",
       "text": [
        "\n"
       ]
      },
      {
       "output_type": "stream",
       "stream": "stdout",
       "text": [
        "label: unnamed-chunk-7 (with options) \n",
        "List of 1\n",
        " $ height: num 1.8\n",
        "\n",
        "\r",
        "  |                                                                       "
       ]
      },
      {
       "output_type": "stream",
       "stream": "stdout",
       "text": [
        "\r",
        "  |...........                                                      |  16%"
       ]
      },
      {
       "output_type": "stream",
       "stream": "stdout",
       "text": [
        "\n"
       ]
      },
      {
       "output_type": "stream",
       "stream": "stdout",
       "text": [
        "  ordinary text without R code\n",
        "\n",
        "\r",
        "  |                                                                       \r",
        "  |...........                                                      |  18%"
       ]
      },
      {
       "output_type": "stream",
       "stream": "stdout",
       "text": [
        "\n"
       ]
      },
      {
       "output_type": "stream",
       "stream": "stdout",
       "text": [
        "label: unnamed-chunk-8 (with options) \n",
        "List of 1\n",
        " $ height: num 1.8\n",
        "\n",
        "\r",
        "  |                                                                       "
       ]
      },
      {
       "output_type": "stream",
       "stream": "stdout",
       "text": [
        "\r",
        "  |............                                                     |  19%"
       ]
      },
      {
       "output_type": "stream",
       "stream": "stdout",
       "text": [
        "\n"
       ]
      },
      {
       "output_type": "stream",
       "stream": "stdout",
       "text": [
        "  ordinary text without R code\n",
        "\n",
        "\r",
        "  |                                                                       \r",
        "  |.............                                                    |  20%"
       ]
      },
      {
       "output_type": "stream",
       "stream": "stdout",
       "text": [
        "\n"
       ]
      },
      {
       "output_type": "stream",
       "stream": "stdout",
       "text": [
        "label: unnamed-chunk-9 (with options) \n",
        "List of 1\n",
        " $ height: num 1.8\n",
        "\n",
        "\r",
        "  |                                                                       "
       ]
      },
      {
       "output_type": "stream",
       "stream": "stdout",
       "text": [
        "\r",
        "  |..............                                                   |  21%"
       ]
      },
      {
       "output_type": "stream",
       "stream": "stdout",
       "text": [
        "\n"
       ]
      },
      {
       "output_type": "stream",
       "stream": "stdout",
       "text": [
        "  ordinary text without R code\n",
        "\n",
        "\r",
        "  |                                                                       \r",
        "  |..............                                                   |  22%"
       ]
      },
      {
       "output_type": "stream",
       "stream": "stdout",
       "text": [
        "\n"
       ]
      },
      {
       "output_type": "stream",
       "stream": "stdout",
       "text": [
        "label: unnamed-chunk-10 (with options) \n",
        "List of 1\n",
        " $ height: num 1.8\n",
        "\n",
        "\r",
        "  |                                                                       "
       ]
      },
      {
       "output_type": "stream",
       "stream": "stdout",
       "text": [
        "\r",
        "  |...............                                                  |  23%"
       ]
      },
      {
       "output_type": "stream",
       "stream": "stdout",
       "text": [
        "\n"
       ]
      },
      {
       "output_type": "stream",
       "stream": "stdout",
       "text": [
        "  ordinary text without R code\n",
        "\n",
        "\r",
        "  |                                                                       \r",
        "  |................                                                 |  24%"
       ]
      },
      {
       "output_type": "stream",
       "stream": "stdout",
       "text": [
        "\n"
       ]
      },
      {
       "output_type": "stream",
       "stream": "stdout",
       "text": [
        "label: unnamed-chunk-11 (with options) \n",
        "List of 1\n",
        " $ height: num 1.8\n",
        "\n",
        "\r",
        "  |                                                                       "
       ]
      },
      {
       "output_type": "stream",
       "stream": "stdout",
       "text": [
        "\r",
        "  |................                                                 |  25%"
       ]
      },
      {
       "output_type": "stream",
       "stream": "stdout",
       "text": [
        "\n"
       ]
      },
      {
       "output_type": "stream",
       "stream": "stdout",
       "text": [
        "  ordinary text without R code\n",
        "\n",
        "\r",
        "  |                                                                       \r",
        "  |.................                                                |  26%"
       ]
      },
      {
       "output_type": "stream",
       "stream": "stdout",
       "text": [
        "\n"
       ]
      },
      {
       "output_type": "stream",
       "stream": "stdout",
       "text": [
        "label: unnamed-chunk-12 (with options) \n",
        "List of 1\n",
        " $ height: num 1.8\n",
        "\n",
        "\r",
        "  |                                                                       "
       ]
      },
      {
       "output_type": "stream",
       "stream": "stdout",
       "text": [
        "\r",
        "  |..................                                               |  27%"
       ]
      },
      {
       "output_type": "stream",
       "stream": "stdout",
       "text": [
        "\n"
       ]
      },
      {
       "output_type": "stream",
       "stream": "stdout",
       "text": [
        "  ordinary text without R code\n",
        "\n",
        "\r",
        "  |                                                                       \r",
        "  |...................                                              |  29%"
       ]
      },
      {
       "output_type": "stream",
       "stream": "stdout",
       "text": [
        "\n"
       ]
      },
      {
       "output_type": "stream",
       "stream": "stdout",
       "text": [
        "label: unnamed-chunk-13 (with options) \n",
        "List of 1\n",
        " $ height: num 1.8\n",
        "\n",
        "\r",
        "  |                                                                       "
       ]
      },
      {
       "output_type": "stream",
       "stream": "stdout",
       "text": [
        "\r",
        "  |...................                                              |  30%"
       ]
      },
      {
       "output_type": "stream",
       "stream": "stdout",
       "text": [
        "\n"
       ]
      },
      {
       "output_type": "stream",
       "stream": "stdout",
       "text": [
        "  ordinary text without R code\n",
        "\n",
        "\r",
        "  |                                                                       \r",
        "  |....................                                             |  31%"
       ]
      },
      {
       "output_type": "stream",
       "stream": "stdout",
       "text": [
        "\n"
       ]
      },
      {
       "output_type": "stream",
       "stream": "stdout",
       "text": [
        "label: unnamed-chunk-14 (with options) \n",
        "List of 2\n",
        " $ results: chr \"asis\"\n",
        " $ tidy   : logi FALSE\n",
        "\n",
        "\r",
        "  |                                                                       \r",
        "  |.....................                                            |  32%"
       ]
      },
      {
       "output_type": "stream",
       "stream": "stdout",
       "text": [
        "\n"
       ]
      },
      {
       "output_type": "stream",
       "stream": "stdout",
       "text": [
        "   inline R code fragments\n",
        "\n",
        "\r",
        "  |                                                                       \r",
        "  |.....................                                            |  33%"
       ]
      },
      {
       "output_type": "stream",
       "stream": "stdout",
       "text": [
        "\n"
       ]
      },
      {
       "output_type": "stream",
       "stream": "stdout",
       "text": [
        "label: unnamed-chunk-15\n",
        "\r",
        "  |                                                                       "
       ]
      },
      {
       "output_type": "stream",
       "stream": "stdout",
       "text": [
        "\r",
        "  |......................                                           |  34%"
       ]
      },
      {
       "output_type": "stream",
       "stream": "stdout",
       "text": [
        "\n"
       ]
      },
      {
       "output_type": "stream",
       "stream": "stdout",
       "text": [
        "  ordinary text without R code\n",
        "\n",
        "\r",
        "  |                                                                       \r",
        "  |.......................                                          |  35%"
       ]
      },
      {
       "output_type": "stream",
       "stream": "stdout",
       "text": [
        "\n"
       ]
      },
      {
       "output_type": "stream",
       "stream": "stdout",
       "text": [
        "label: unnamed-chunk-16 (with options) \n",
        "List of 2\n",
        " $ results: chr \"asis\"\n",
        " $ tidy   : logi FALSE\n",
        "\n",
        "\r",
        "  |                                                                       \r",
        "  |........................                                         |  36%"
       ]
      },
      {
       "output_type": "stream",
       "stream": "stdout",
       "text": [
        "\n"
       ]
      },
      {
       "output_type": "stream",
       "stream": "stdout",
       "text": [
        "  ordinary text without R code\n",
        "\n",
        "\r",
        "  |                                                                       \r",
        "  |........................                                         |  37%"
       ]
      },
      {
       "output_type": "stream",
       "stream": "stdout",
       "text": [
        "\n"
       ]
      },
      {
       "output_type": "stream",
       "stream": "stdout",
       "text": [
        "label: unnamed-chunk-17 (with options) \n",
        "List of 2\n",
        " $ results: chr \"asis\"\n",
        " $ tidy   : logi FALSE\n",
        "\n",
        "\r",
        "  |                                                                       \r",
        "  |.........................                                        |  38%"
       ]
      },
      {
       "output_type": "stream",
       "stream": "stdout",
       "text": [
        "\n"
       ]
      },
      {
       "output_type": "stream",
       "stream": "stdout",
       "text": [
        "   inline R code fragments\n",
        "\n",
        "\r",
        "  |                                                                       \r",
        "  |..........................                                       |  40%"
       ]
      },
      {
       "output_type": "stream",
       "stream": "stdout",
       "text": [
        "\n"
       ]
      },
      {
       "output_type": "stream",
       "stream": "stdout",
       "text": [
        "label: unnamed-chunk-18 (with options) \n",
        "List of 2\n",
        " $ results: chr \"asis\"\n",
        " $ tidy   : logi FALSE\n",
        "\n",
        "\r",
        "  |                                                                       \r",
        "  |..........................                                       |  41%"
       ]
      },
      {
       "output_type": "stream",
       "stream": "stdout",
       "text": [
        "\n"
       ]
      },
      {
       "output_type": "stream",
       "stream": "stdout",
       "text": [
        "   inline R code fragments\n",
        "\n",
        "\r",
        "  |                                                                       \r",
        "  |...........................                                      |  42%"
       ]
      },
      {
       "output_type": "stream",
       "stream": "stdout",
       "text": [
        "\n"
       ]
      },
      {
       "output_type": "stream",
       "stream": "stdout",
       "text": [
        "label: unnamed-chunk-19 (with options) \n",
        "List of 2\n",
        " $ results: chr \"asis\"\n",
        " $ tidy   : logi FALSE\n",
        "\n",
        "\r",
        "  |                                                                       \r",
        "  |............................                                     |  43%"
       ]
      },
      {
       "output_type": "stream",
       "stream": "stdout",
       "text": [
        "\n"
       ]
      },
      {
       "output_type": "stream",
       "stream": "stdout",
       "text": [
        "  ordinary text without R code\n",
        "\n",
        "\r",
        "  |                                                                       \r",
        "  |.............................                                    |  44%"
       ]
      },
      {
       "output_type": "stream",
       "stream": "stdout",
       "text": [
        "\n"
       ]
      },
      {
       "output_type": "stream",
       "stream": "stdout",
       "text": [
        "label: unnamed-chunk-20\n",
        "\r",
        "  |                                                                       "
       ]
      },
      {
       "output_type": "stream",
       "stream": "stdout",
       "text": [
        "\r",
        "  |.............................                                    |  45%"
       ]
      },
      {
       "output_type": "stream",
       "stream": "stdout",
       "text": [
        "\n"
       ]
      },
      {
       "output_type": "stream",
       "stream": "stdout",
       "text": [
        "  ordinary text without R code\n",
        "\n",
        "\r",
        "  |                                                                       \r",
        "  |..............................                                   |  46%"
       ]
      },
      {
       "output_type": "stream",
       "stream": "stdout",
       "text": [
        "\n"
       ]
      },
      {
       "output_type": "stream",
       "stream": "stdout",
       "text": [
        "label: unnamed-chunk-21\n",
        "\r",
        "  |                                                                       "
       ]
      },
      {
       "output_type": "stream",
       "stream": "stdout",
       "text": [
        "\r",
        "  |...............................                                  |  47%"
       ]
      },
      {
       "output_type": "stream",
       "stream": "stdout",
       "text": [
        "\n"
       ]
      },
      {
       "output_type": "stream",
       "stream": "stdout",
       "text": [
        "  ordinary text without R code\n",
        "\n",
        "\r",
        "  |                                                                       \r",
        "  |...............................                                  |  48%"
       ]
      },
      {
       "output_type": "stream",
       "stream": "stdout",
       "text": [
        "\n"
       ]
      },
      {
       "output_type": "stream",
       "stream": "stdout",
       "text": [
        "label: unnamed-chunk-22 (with options) \n",
        "List of 1\n",
        " $ fig.height: num 3.2\n",
        "\n",
        "\r",
        "  |                                                                       "
       ]
      },
      {
       "output_type": "stream",
       "stream": "stdout",
       "text": [
        "\r",
        "  |................................                                 |  49%"
       ]
      },
      {
       "output_type": "stream",
       "stream": "stdout",
       "text": [
        "\n"
       ]
      },
      {
       "output_type": "stream",
       "stream": "stdout",
       "text": [
        "  ordinary text without R code\n",
        "\n",
        "\r",
        "  |                                                                       \r",
        "  |.................................                                |  51%"
       ]
      },
      {
       "output_type": "stream",
       "stream": "stdout",
       "text": [
        "\n"
       ]
      },
      {
       "output_type": "stream",
       "stream": "stdout",
       "text": [
        "label: unnamed-chunk-23 (with options) \n",
        "List of 2\n",
        " $ results: chr \"asis\"\n",
        " $ tidy   : logi FALSE\n",
        "\n",
        "\r",
        "  |                                                                       \r",
        "  |..................................                               |  52%"
       ]
      },
      {
       "output_type": "stream",
       "stream": "stdout",
       "text": [
        "\n"
       ]
      },
      {
       "output_type": "stream",
       "stream": "stdout",
       "text": [
        "  ordinary text without R code\n",
        "\n",
        "\r",
        "  |                                                                       \r",
        "  |..................................                               |  53%"
       ]
      },
      {
       "output_type": "stream",
       "stream": "stdout",
       "text": [
        "\n"
       ]
      },
      {
       "output_type": "stream",
       "stream": "stdout",
       "text": [
        "label: unnamed-chunk-24 (with options) \n",
        "List of 1\n",
        " $ height: num 9\n",
        "\n",
        "\r",
        "  |                                                                       "
       ]
      },
      {
       "output_type": "stream",
       "stream": "stdout",
       "text": [
        "\r",
        "  |...................................                              |  54%"
       ]
      },
      {
       "output_type": "stream",
       "stream": "stdout",
       "text": [
        "\n"
       ]
      },
      {
       "output_type": "stream",
       "stream": "stdout",
       "text": [
        "  ordinary text without R code\n",
        "\n",
        "\r",
        "  |                                                                       \r",
        "  |....................................                             |  55%"
       ]
      },
      {
       "output_type": "stream",
       "stream": "stdout",
       "text": [
        "\n"
       ]
      },
      {
       "output_type": "stream",
       "stream": "stdout",
       "text": [
        "label: unnamed-chunk-25 (with options) \n",
        "List of 1\n",
        " $ height: num 9\n",
        "\n",
        "\r",
        "  |                                                                       "
       ]
      },
      {
       "output_type": "stream",
       "stream": "stdout",
       "text": [
        "\r",
        "  |....................................                             |  56%"
       ]
      },
      {
       "output_type": "stream",
       "stream": "stdout",
       "text": [
        "\n"
       ]
      },
      {
       "output_type": "stream",
       "stream": "stdout",
       "text": [
        "  ordinary text without R code\n",
        "\n",
        "\r",
        "  |                                                                       \r",
        "  |.....................................                            |  57%"
       ]
      },
      {
       "output_type": "stream",
       "stream": "stdout",
       "text": [
        "\n"
       ]
      },
      {
       "output_type": "stream",
       "stream": "stdout",
       "text": [
        "label: unnamed-chunk-26 (with options) \n",
        "List of 1\n",
        " $ height: num 9\n",
        "\n",
        "\r",
        "  |                                                                       "
       ]
      },
      {
       "output_type": "stream",
       "stream": "stdout",
       "text": [
        "\r",
        "  |......................................                           |  58%"
       ]
      },
      {
       "output_type": "stream",
       "stream": "stdout",
       "text": [
        "\n"
       ]
      },
      {
       "output_type": "stream",
       "stream": "stdout",
       "text": [
        "  ordinary text without R code\n",
        "\n",
        "\r",
        "  |                                                                       \r",
        "  |.......................................                          |  59%"
       ]
      },
      {
       "output_type": "stream",
       "stream": "stdout",
       "text": [
        "\n"
       ]
      },
      {
       "output_type": "stream",
       "stream": "stdout",
       "text": [
        "label: unnamed-chunk-27 (with options) \n",
        "List of 1\n",
        " $ height: num 9\n",
        "\n",
        "\r",
        "  |                                                                       "
       ]
      },
      {
       "output_type": "stream",
       "stream": "stdout",
       "text": [
        "\r",
        "  |.......................................                          |  60%"
       ]
      },
      {
       "output_type": "stream",
       "stream": "stdout",
       "text": [
        "\n"
       ]
      },
      {
       "output_type": "stream",
       "stream": "stdout",
       "text": [
        "  ordinary text without R code\n",
        "\n",
        "\r",
        "  |                                                                       \r",
        "  |........................................                         |  62%"
       ]
      },
      {
       "output_type": "stream",
       "stream": "stdout",
       "text": [
        "\n"
       ]
      },
      {
       "output_type": "stream",
       "stream": "stdout",
       "text": [
        "label: unnamed-chunk-28 (with options) \n",
        "List of 1\n",
        " $ height: num 9\n",
        "\n",
        "\r",
        "  |                                                                       "
       ]
      },
      {
       "output_type": "stream",
       "stream": "stdout",
       "text": [
        "\r",
        "  |.........................................                        |  63%"
       ]
      },
      {
       "output_type": "stream",
       "stream": "stdout",
       "text": [
        "\n"
       ]
      },
      {
       "output_type": "stream",
       "stream": "stdout",
       "text": [
        "  ordinary text without R code\n",
        "\n",
        "\r",
        "  |                                                                       \r",
        "  |.........................................                        |  64%"
       ]
      },
      {
       "output_type": "stream",
       "stream": "stdout",
       "text": [
        "\n"
       ]
      },
      {
       "output_type": "stream",
       "stream": "stdout",
       "text": [
        "label: unnamed-chunk-29 (with options) \n",
        "List of 1\n",
        " $ height: num 9\n",
        "\n",
        "\r",
        "  |                                                                       "
       ]
      },
      {
       "output_type": "stream",
       "stream": "stdout",
       "text": [
        "\r",
        "  |..........................................                       |  65%"
       ]
      },
      {
       "output_type": "stream",
       "stream": "stdout",
       "text": [
        "\n"
       ]
      },
      {
       "output_type": "stream",
       "stream": "stdout",
       "text": [
        "  ordinary text without R code\n",
        "\n",
        "\r",
        "  |                                                                       \r",
        "  |...........................................                      |  66%"
       ]
      },
      {
       "output_type": "stream",
       "stream": "stdout",
       "text": [
        "\n"
       ]
      },
      {
       "output_type": "stream",
       "stream": "stdout",
       "text": [
        "label: unnamed-chunk-30 (with options) \n",
        "List of 1\n",
        " $ height: num 9\n",
        "\n",
        "\r",
        "  |                                                                       "
       ]
      },
      {
       "output_type": "stream",
       "stream": "stdout",
       "text": [
        "\r",
        "  |............................................                     |  67%"
       ]
      },
      {
       "output_type": "stream",
       "stream": "stdout",
       "text": [
        "\n"
       ]
      },
      {
       "output_type": "stream",
       "stream": "stdout",
       "text": [
        "  ordinary text without R code\n",
        "\n",
        "\r",
        "  |                                                                       \r",
        "  |............................................                     |  68%"
       ]
      },
      {
       "output_type": "stream",
       "stream": "stdout",
       "text": [
        "\n"
       ]
      },
      {
       "output_type": "stream",
       "stream": "stdout",
       "text": [
        "label: unnamed-chunk-31 (with options) \n",
        "List of 1\n",
        " $ height: num 9\n",
        "\n",
        "\r",
        "  |                                                                       "
       ]
      },
      {
       "output_type": "stream",
       "stream": "stdout",
       "text": [
        "\r",
        "  |.............................................                    |  69%"
       ]
      },
      {
       "output_type": "stream",
       "stream": "stdout",
       "text": [
        "\n"
       ]
      },
      {
       "output_type": "stream",
       "stream": "stdout",
       "text": [
        "  ordinary text without R code\n",
        "\n",
        "\r",
        "  |                                                                       \r",
        "  |..............................................                   |  70%"
       ]
      },
      {
       "output_type": "stream",
       "stream": "stdout",
       "text": [
        "\n"
       ]
      },
      {
       "output_type": "stream",
       "stream": "stdout",
       "text": [
        "label: unnamed-chunk-32 (with options) \n",
        "List of 1\n",
        " $ height: num 9\n",
        "\n",
        "\r",
        "  |                                                                       "
       ]
      },
      {
       "output_type": "stream",
       "stream": "stdout",
       "text": [
        "\r",
        "  |..............................................                   |  71%"
       ]
      },
      {
       "output_type": "stream",
       "stream": "stdout",
       "text": [
        "\n"
       ]
      },
      {
       "output_type": "stream",
       "stream": "stdout",
       "text": [
        "  ordinary text without R code\n",
        "\n",
        "\r",
        "  |                                                                       \r",
        "  |...............................................                  |  73%"
       ]
      },
      {
       "output_type": "stream",
       "stream": "stdout",
       "text": [
        "\n"
       ]
      },
      {
       "output_type": "stream",
       "stream": "stdout",
       "text": [
        "label: unnamed-chunk-33 (with options) \n",
        "List of 1\n",
        " $ height: num 9\n",
        "\n",
        "\r",
        "  |                                                                       "
       ]
      },
      {
       "output_type": "stream",
       "stream": "stdout",
       "text": [
        "\r",
        "  |................................................                 |  74%"
       ]
      },
      {
       "output_type": "stream",
       "stream": "stdout",
       "text": [
        "\n"
       ]
      },
      {
       "output_type": "stream",
       "stream": "stdout",
       "text": [
        "  ordinary text without R code\n",
        "\n",
        "\r",
        "  |                                                                       \r",
        "  |.................................................                |  75%"
       ]
      },
      {
       "output_type": "stream",
       "stream": "stdout",
       "text": [
        "\n"
       ]
      },
      {
       "output_type": "stream",
       "stream": "stdout",
       "text": [
        "label: unnamed-chunk-34\n",
        "\r",
        "  |                                                                       "
       ]
      },
      {
       "output_type": "stream",
       "stream": "stdout",
       "text": [
        "\r",
        "  |.................................................                |  76%"
       ]
      },
      {
       "output_type": "stream",
       "stream": "stdout",
       "text": [
        "\n"
       ]
      },
      {
       "output_type": "stream",
       "stream": "stdout",
       "text": [
        "  ordinary text without R code\n",
        "\n",
        "\r",
        "  |                                                                       \r",
        "  |..................................................               |  77%"
       ]
      },
      {
       "output_type": "stream",
       "stream": "stdout",
       "text": [
        "\n"
       ]
      },
      {
       "output_type": "stream",
       "stream": "stdout",
       "text": [
        "label: unnamed-chunk-35\n",
        "\r",
        "  |                                                                       "
       ]
      },
      {
       "output_type": "stream",
       "stream": "stdout",
       "text": [
        "\r",
        "  |...................................................              |  78%"
       ]
      },
      {
       "output_type": "stream",
       "stream": "stdout",
       "text": [
        "\n"
       ]
      },
      {
       "output_type": "stream",
       "stream": "stdout",
       "text": [
        "  ordinary text without R code\n",
        "\n",
        "\r",
        "  |                                                                       \r",
        "  |...................................................              |  79%"
       ]
      },
      {
       "output_type": "stream",
       "stream": "stdout",
       "text": [
        "\n"
       ]
      },
      {
       "output_type": "stream",
       "stream": "stdout",
       "text": [
        "label: unnamed-chunk-36\n",
        "\r",
        "  |                                                                       "
       ]
      },
      {
       "output_type": "stream",
       "stream": "stdout",
       "text": [
        "\r",
        "  |....................................................             |  80%"
       ]
      },
      {
       "output_type": "stream",
       "stream": "stdout",
       "text": [
        "\n"
       ]
      },
      {
       "output_type": "stream",
       "stream": "stdout",
       "text": [
        "  ordinary text without R code\n",
        "\n",
        "\r",
        "  |                                                                       \r",
        "  |.....................................................            |  81%"
       ]
      },
      {
       "output_type": "stream",
       "stream": "stdout",
       "text": [
        "\n"
       ]
      },
      {
       "output_type": "stream",
       "stream": "stdout",
       "text": [
        "label: unnamed-chunk-37\n",
        "\r",
        "  |                                                                       "
       ]
      },
      {
       "output_type": "stream",
       "stream": "stdout",
       "text": [
        "\r",
        "  |......................................................           |  82%"
       ]
      },
      {
       "output_type": "stream",
       "stream": "stdout",
       "text": [
        "\n"
       ]
      },
      {
       "output_type": "stream",
       "stream": "stdout",
       "text": [
        "  ordinary text without R code\n",
        "\n",
        "\r",
        "  |                                                                       \r",
        "  |......................................................           |  84%"
       ]
      },
      {
       "output_type": "stream",
       "stream": "stdout",
       "text": [
        "\n"
       ]
      },
      {
       "output_type": "stream",
       "stream": "stdout",
       "text": [
        "label: unnamed-chunk-38\n",
        "\r",
        "  |                                                                       "
       ]
      },
      {
       "output_type": "stream",
       "stream": "stdout",
       "text": [
        "\r",
        "  |.......................................................          |  85%"
       ]
      },
      {
       "output_type": "stream",
       "stream": "stdout",
       "text": [
        "\n"
       ]
      },
      {
       "output_type": "stream",
       "stream": "stdout",
       "text": [
        "  ordinary text without R code\n",
        "\n",
        "\r",
        "  |                                                                       \r",
        "  |........................................................         |  86%"
       ]
      },
      {
       "output_type": "stream",
       "stream": "stdout",
       "text": [
        "\n"
       ]
      },
      {
       "output_type": "stream",
       "stream": "stdout",
       "text": [
        "label: unnamed-chunk-39 (with options) \n",
        "List of 2\n",
        " $ results: chr \"asis\"\n",
        " $ tidy   : logi FALSE\n",
        "\n",
        "\r",
        "  |                                                                       "
       ]
      },
      {
       "output_type": "stream",
       "stream": "stdout",
       "text": [
        "\r",
        "  |........................................................         |  87%"
       ]
      },
      {
       "output_type": "stream",
       "stream": "stdout",
       "text": [
        "\n"
       ]
      },
      {
       "output_type": "stream",
       "stream": "stdout",
       "text": [
        "  ordinary text without R code\n",
        "\n",
        "\r",
        "  |                                                                       \r",
        "  |.........................................................        |  88%"
       ]
      },
      {
       "output_type": "stream",
       "stream": "stdout",
       "text": [
        "\n"
       ]
      },
      {
       "output_type": "stream",
       "stream": "stdout",
       "text": [
        "label: unnamed-chunk-40 (with options) \n",
        "List of 1\n",
        " $ eval: logi TRUE\n",
        "\n",
        "\r",
        "  |                                                                       \r",
        "  |..........................................................       |  89%"
       ]
      },
      {
       "output_type": "stream",
       "stream": "stdout",
       "text": [
        "\n"
       ]
      },
      {
       "output_type": "stream",
       "stream": "stdout",
       "text": [
        "  ordinary text without R code\n",
        "\n",
        "\r",
        "  |                                                                       \r",
        "  |...........................................................      |  90%"
       ]
      },
      {
       "output_type": "stream",
       "stream": "stdout",
       "text": [
        "\n"
       ]
      },
      {
       "output_type": "stream",
       "stream": "stdout",
       "text": [
        "label: unnamed-chunk-41 (with options) \n",
        "List of 2\n",
        " $ results: chr \"asis\"\n",
        " $ tidy   : logi FALSE\n",
        "\n",
        "\r",
        "  |                                                                       \r",
        "  |...........................................................      |  91%"
       ]
      },
      {
       "output_type": "stream",
       "stream": "stdout",
       "text": [
        "\n"
       ]
      },
      {
       "output_type": "stream",
       "stream": "stdout",
       "text": [
        "  ordinary text without R code\n",
        "\n",
        "\r",
        "  |                                                                       \r",
        "  |............................................................     |  92%"
       ]
      },
      {
       "output_type": "stream",
       "stream": "stdout",
       "text": [
        "\n"
       ]
      },
      {
       "output_type": "stream",
       "stream": "stdout",
       "text": [
        "label: unnamed-chunk-42 (with options) \n",
        "List of 2\n",
        " $ results: chr \"asis\"\n",
        " $ tidy   : logi FALSE\n",
        "\n",
        "\r",
        "  |                                                                       \r",
        "  |.............................................................    |  93%"
       ]
      },
      {
       "output_type": "stream",
       "stream": "stdout",
       "text": [
        "\n"
       ]
      },
      {
       "output_type": "stream",
       "stream": "stdout",
       "text": [
        "  ordinary text without R code\n",
        "\n",
        "\r",
        "  |                                                                       \r",
        "  |.............................................................    |  95%"
       ]
      },
      {
       "output_type": "stream",
       "stream": "stdout",
       "text": [
        "\n"
       ]
      },
      {
       "output_type": "stream",
       "stream": "stdout",
       "text": [
        "label: unnamed-chunk-43 (with options) \n",
        "List of 2\n",
        " $ results: chr \"asis\"\n",
        " $ tidy   : logi FALSE\n",
        "\n",
        "\r",
        "  |                                                                       \r",
        "  |..............................................................   |  96%"
       ]
      },
      {
       "output_type": "stream",
       "stream": "stdout",
       "text": [
        "\n"
       ]
      },
      {
       "output_type": "stream",
       "stream": "stdout",
       "text": [
        "  ordinary text without R code\n",
        "\n",
        "\r",
        "  |                                                                       \r",
        "  |...............................................................  |  97%"
       ]
      },
      {
       "output_type": "stream",
       "stream": "stdout",
       "text": [
        "\n"
       ]
      },
      {
       "output_type": "stream",
       "stream": "stdout",
       "text": [
        "label: unnamed-chunk-44 (with options) \n",
        "List of 2\n",
        " $ results: chr \"asis\"\n",
        " $ tidy   : logi FALSE\n",
        "\n",
        "\r",
        "  |                                                                       \r",
        "  |................................................................ |  98%"
       ]
      },
      {
       "output_type": "stream",
       "stream": "stdout",
       "text": [
        "\n"
       ]
      },
      {
       "output_type": "stream",
       "stream": "stdout",
       "text": [
        "  ordinary text without R code\n",
        "\n",
        "\r",
        "  |                                                                       \r",
        "  |................................................................ |  99%"
       ]
      },
      {
       "output_type": "stream",
       "stream": "stdout",
       "text": [
        "\n"
       ]
      },
      {
       "output_type": "stream",
       "stream": "stdout",
       "text": [
        "label: unnamed-chunk-45 (with options) \n",
        "List of 2\n",
        " $ results: chr \"asis\"\n",
        " $ tidy   : logi FALSE\n",
        "\n",
        "\r",
        "  |                                                                       \r",
        "  |.................................................................| 100%"
       ]
      },
      {
       "output_type": "stream",
       "stream": "stdout",
       "text": [
        "\n"
       ]
      },
      {
       "output_type": "stream",
       "stream": "stdout",
       "text": [
        "   inline R code fragments\n",
        "\n",
        "[1] \"R version 3.1.2 (2014-10-31)\"\n",
        "[1] \"x86_64-pc-linux-gnu\"\n",
        "\n"
       ]
      },
      {
       "output_type": "stream",
       "stream": "stdout",
       "text": [
        "output file: zap.tex\n",
        "\n",
        "Error in texi2dvi(file = file, pdf = TRUE, clean = clean, quiet = quiet,  : \n",
        "  Running 'texi2dvi' on 'zap.tex' failed.\n",
        "LaTeX errors:\n",
        "! Illegal unit of measure (pt inserted).\n",
        "<to be read again> \n",
        "                   \\relax \n",
        "l.136 ...udegraphics[height=50, width=50]{doh.png}\n",
        "                                                  \n",
        "! Illegal unit of measure (pt inserted).\n",
        "<to be read again> \n",
        "                   \\relax \n",
        "l.136 ...udegraphics[height=50, width=50]{doh.png}\n",
        "                                                  \n",
        "! LaTeX Error: Something's wrong--perhaps a missing \\item.\n",
        "\n",
        "See the LaTeX manual or LaTeX Companion for explanation.\n",
        "Type  H <return>  for immediate help.\n",
        " ...                                              \n",
        "! LaTeX Error: Something's wrong--perhaps a missing \\item.\n",
        "\n",
        "See the LaTeX manual or LaTeX Companion for explanation.\n",
        "Type  H <return>  for immediate help.\n",
        " ...                                              \n",
        "! LaTeX Error: Something's wrong--perhaps a missing \\item.\n",
        "\n",
        "See the LaTeX manual or LaTeX Companion for explanation.\n",
        "Type  H <return>  for immed\n"
       ]
      },
      {
       "ename": "RRuntimeError",
       "evalue": "Error in texi2dvi(file = file, pdf = TRUE, clean = clean, quiet = quiet,  : \n  Running 'texi2dvi' on 'zap.tex' failed.\nLaTeX errors:\n! Illegal unit of measure (pt inserted).\n<to be read again> \n                   \\relax \nl.136 ...udegraphics[height=50, width=50]{doh.png}\n                                                  \n! Illegal unit of measure (pt inserted).\n<to be read again> \n                   \\relax \nl.136 ...udegraphics[height=50, width=50]{doh.png}\n                                                  \n! LaTeX Error: Something's wrong--perhaps a missing \\item.\n\nSee the LaTeX manual or LaTeX Companion for explanation.\nType  H <return>  for immediate help.\n ...                                              \n! LaTeX Error: Something's wrong--perhaps a missing \\item.\n\nSee the LaTeX manual or LaTeX Companion for explanation.\nType  H <return>  for immediate help.\n ...                                              \n! LaTeX Error: Something's wrong--perhaps a missing \\item.\n\nSee the LaTeX manual or LaTeX Companion for explanation.\nType  H <return>  for immed\n",
       "output_type": "pyerr",
       "traceback": [
        "\u001b[0;31m---------------------------------------------------------------------------\u001b[0m\n\u001b[0;31mRRuntimeError\u001b[0m                             Traceback (most recent call last)",
        "\u001b[0;32m<ipython-input-24-eb782a90f360>\u001b[0m in \u001b[0;36m<module>\u001b[0;34m()\u001b[0m\n\u001b[1;32m      1\u001b[0m \u001b[0;31m# Compile the pdf\u001b[0m\u001b[0;34m\u001b[0m\u001b[0;34m\u001b[0m\u001b[0m\n\u001b[1;32m      2\u001b[0m \u001b[0mos\u001b[0m\u001b[0;34m.\u001b[0m\u001b[0mchdir\u001b[0m\u001b[0;34m(\u001b[0m\u001b[0mprivate_today\u001b[0m\u001b[0;34m)\u001b[0m\u001b[0;34m\u001b[0m\u001b[0m\n\u001b[0;32m----> 3\u001b[0;31m \u001b[0mrobjects\u001b[0m\u001b[0;34m.\u001b[0m\u001b[0mr\u001b[0m\u001b[0;34m[\u001b[0m\u001b[0;34m'source'\u001b[0m\u001b[0;34m]\u001b[0m\u001b[0;34m(\u001b[0m\u001b[0;34m\"zap_compile.R\"\u001b[0m\u001b[0;34m)\u001b[0m\u001b[0;34m\u001b[0m\u001b[0m\n\u001b[0m",
        "\u001b[0;32m/usr/lib/python2.7/dist-packages/rpy2/robjects/functions.pyc\u001b[0m in \u001b[0;36m__call__\u001b[0;34m(self, *args, **kwargs)\u001b[0m\n\u001b[1;32m    168\u001b[0m                 \u001b[0mv\u001b[0m \u001b[0;34m=\u001b[0m \u001b[0mkwargs\u001b[0m\u001b[0;34m.\u001b[0m\u001b[0mpop\u001b[0m\u001b[0;34m(\u001b[0m\u001b[0mk\u001b[0m\u001b[0;34m)\u001b[0m\u001b[0;34m\u001b[0m\u001b[0m\n\u001b[1;32m    169\u001b[0m                 \u001b[0mkwargs\u001b[0m\u001b[0;34m[\u001b[0m\u001b[0mr_k\u001b[0m\u001b[0;34m]\u001b[0m \u001b[0;34m=\u001b[0m \u001b[0mv\u001b[0m\u001b[0;34m\u001b[0m\u001b[0m\n\u001b[0;32m--> 170\u001b[0;31m         \u001b[0;32mreturn\u001b[0m \u001b[0msuper\u001b[0m\u001b[0;34m(\u001b[0m\u001b[0mSignatureTranslatedFunction\u001b[0m\u001b[0;34m,\u001b[0m \u001b[0mself\u001b[0m\u001b[0;34m)\u001b[0m\u001b[0;34m.\u001b[0m\u001b[0m__call__\u001b[0m\u001b[0;34m(\u001b[0m\u001b[0;34m*\u001b[0m\u001b[0margs\u001b[0m\u001b[0;34m,\u001b[0m \u001b[0;34m**\u001b[0m\u001b[0mkwargs\u001b[0m\u001b[0;34m)\u001b[0m\u001b[0;34m\u001b[0m\u001b[0m\n\u001b[0m\u001b[1;32m    171\u001b[0m \u001b[0;34m\u001b[0m\u001b[0m\n\u001b[1;32m    172\u001b[0m \u001b[0mpattern_link\u001b[0m \u001b[0;34m=\u001b[0m \u001b[0mre\u001b[0m\u001b[0;34m.\u001b[0m\u001b[0mcompile\u001b[0m\u001b[0;34m(\u001b[0m\u001b[0;34mr'\\\\link\\{(.+?)\\}'\u001b[0m\u001b[0;34m)\u001b[0m\u001b[0;34m\u001b[0m\u001b[0m\n",
        "\u001b[0;32m/usr/lib/python2.7/dist-packages/rpy2/robjects/functions.pyc\u001b[0m in \u001b[0;36m__call__\u001b[0;34m(self, *args, **kwargs)\u001b[0m\n\u001b[1;32m     98\u001b[0m         \u001b[0;32mfor\u001b[0m \u001b[0mk\u001b[0m\u001b[0;34m,\u001b[0m \u001b[0mv\u001b[0m \u001b[0;32min\u001b[0m \u001b[0mkwargs\u001b[0m\u001b[0;34m.\u001b[0m\u001b[0mitems\u001b[0m\u001b[0;34m(\u001b[0m\u001b[0;34m)\u001b[0m\u001b[0;34m:\u001b[0m\u001b[0;34m\u001b[0m\u001b[0m\n\u001b[1;32m     99\u001b[0m             \u001b[0mnew_kwargs\u001b[0m\u001b[0;34m[\u001b[0m\u001b[0mk\u001b[0m\u001b[0;34m]\u001b[0m \u001b[0;34m=\u001b[0m \u001b[0mconversion\u001b[0m\u001b[0;34m.\u001b[0m\u001b[0mpy2ri\u001b[0m\u001b[0;34m(\u001b[0m\u001b[0mv\u001b[0m\u001b[0;34m)\u001b[0m\u001b[0;34m\u001b[0m\u001b[0m\n\u001b[0;32m--> 100\u001b[0;31m         \u001b[0mres\u001b[0m \u001b[0;34m=\u001b[0m \u001b[0msuper\u001b[0m\u001b[0;34m(\u001b[0m\u001b[0mFunction\u001b[0m\u001b[0;34m,\u001b[0m \u001b[0mself\u001b[0m\u001b[0;34m)\u001b[0m\u001b[0;34m.\u001b[0m\u001b[0m__call__\u001b[0m\u001b[0;34m(\u001b[0m\u001b[0;34m*\u001b[0m\u001b[0mnew_args\u001b[0m\u001b[0;34m,\u001b[0m \u001b[0;34m**\u001b[0m\u001b[0mnew_kwargs\u001b[0m\u001b[0;34m)\u001b[0m\u001b[0;34m\u001b[0m\u001b[0m\n\u001b[0m\u001b[1;32m    101\u001b[0m         \u001b[0mres\u001b[0m \u001b[0;34m=\u001b[0m \u001b[0mconversion\u001b[0m\u001b[0;34m.\u001b[0m\u001b[0mri2ro\u001b[0m\u001b[0;34m(\u001b[0m\u001b[0mres\u001b[0m\u001b[0;34m)\u001b[0m\u001b[0;34m\u001b[0m\u001b[0m\n\u001b[1;32m    102\u001b[0m         \u001b[0;32mreturn\u001b[0m \u001b[0mres\u001b[0m\u001b[0;34m\u001b[0m\u001b[0m\n",
        "\u001b[0;31mRRuntimeError\u001b[0m: Error in texi2dvi(file = file, pdf = TRUE, clean = clean, quiet = quiet,  : \n  Running 'texi2dvi' on 'zap.tex' failed.\nLaTeX errors:\n! Illegal unit of measure (pt inserted).\n<to be read again> \n                   \\relax \nl.136 ...udegraphics[height=50, width=50]{doh.png}\n                                                  \n! Illegal unit of measure (pt inserted).\n<to be read again> \n                   \\relax \nl.136 ...udegraphics[height=50, width=50]{doh.png}\n                                                  \n! LaTeX Error: Something's wrong--perhaps a missing \\item.\n\nSee the LaTeX manual or LaTeX Companion for explanation.\nType  H <return>  for immediate help.\n ...                                              \n! LaTeX Error: Something's wrong--perhaps a missing \\item.\n\nSee the LaTeX manual or LaTeX Companion for explanation.\nType  H <return>  for immediate help.\n ...                                              \n! LaTeX Error: Something's wrong--perhaps a missing \\item.\n\nSee the LaTeX manual or LaTeX Companion for explanation.\nType  H <return>  for immed\n"
       ]
      }
     ],
     "prompt_number": 24
    },
    {
     "cell_type": "code",
     "collapsed": false,
     "input": [],
     "language": "python",
     "metadata": {},
     "outputs": []
    }
   ],
   "metadata": {}
  }
 ]
}